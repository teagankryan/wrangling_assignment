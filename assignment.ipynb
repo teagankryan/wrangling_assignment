{
 "cells": [
  {
   "cell_type": "markdown",
   "id": "13ad028b-72b7-43ed-aa78-96fd4e518040",
   "metadata": {
    "id": "13ad028b-72b7-43ed-aa78-96fd4e518040"
   },
   "source": [
    "# Assignment: Data Wrangling\n",
    "### `! git clone https://github.com/ds3001f25/wrangling_assignment.git`\n",
    "### Do Q1 and Q2\n",
    "### Reading material: `tidy_data.pdf`"
   ]
  },
  {
   "cell_type": "markdown",
   "id": "da879ea7-8aac-48a3-b6c2-daea56d2e072",
   "metadata": {
    "id": "da879ea7-8aac-48a3-b6c2-daea56d2e072"
   },
   "source": [
    "**Q1.** This question provides some practice cleaning variables which have common problems.\n",
    "1. Numeric variable: For `./data/airbnb_hw.csv`, clean the `Price` variable as well as you can, and explain the choices you make. How many missing values do you end up with? (Hint: What happens to the formatting when a price goes over 999 dollars, say from 675 to 1,112?)\n",
    "2. Categorical variable: For the Minnesota police use of for data, `./data/mn_police_use_of_force.csv`, clean the `subject_injury` variable, handling the NA's; this gives a value `Yes` when a person was injured by police, and `No` when no injury occurred. What proportion of the values are missing? Is this a concern? Cross-tabulate your cleaned `subject_injury` variable with the `force_type` variable. Are there any patterns regarding when the data are missing? \n",
    "3. Dummy variable: For the pretrial data covered in the lecture `./data/justice_data.parquet`, clean the `WhetherDefendantWasReleasedPretrial` variable as well as you can, and, in particular, replace missing values with `np.nan`.\n",
    "4. Missing values, not at random: For the pretrial data covered in the lecture, clean the `ImposedSentenceAllChargeInContactEvent` variable as well as you can, and explain the choices you make. (Hint: Look at the `SentenceTypeAllChargesAtConvictionInContactEvent` variable.)"
   ]
  },
  {
   "cell_type": "markdown",
   "id": "6da58422",
   "metadata": {},
   "source": [
    "1. There are 181 missing values. To clean, I changed the variable type from object to numeric since all prices should be only numbers and dropped the NA values because it would not make sense to having a listing on Airbnb without a price. "
   ]
  },
  {
   "cell_type": "code",
   "execution_count": null,
   "id": "9d412a8d",
   "metadata": {},
   "outputs": [
    {
     "name": "stdout",
     "output_type": "stream",
     "text": [
      "181\n"
     ]
    }
   ],
   "source": [
    "import pandas as pd \n",
    "\n",
    "airbnb = pd.read_csv(\"data/airbnb_hw.csv\")\n",
    "\n",
    "# Changing the variable type from object to numeric \n",
    "airbnb[\"Price\"] = pd.to_numeric(airbnb[\"Price\"], errors=\"coerce\")\n",
    "\n",
    "# Number of NA missing (181)\n",
    "na_missing = airbnb[\"Price\"].isna().sum()\n",
    "print(na_missing)\n",
    "\n",
    "# Drop NA values \n",
    "airbnb = airbnb.dropna(subset=[\"Price\"])"
   ]
  },
  {
   "cell_type": "markdown",
   "id": "42d8d700",
   "metadata": {},
   "source": [
    "2. About 76% of the inputs for subject_injury is missing, which is greatly concerning. The majority of the reported force_types associated to those missing values are bodily force, suggesting that officers may underreport injuries to avoid potential accountability for harming a subject.  "
   ]
  },
  {
   "cell_type": "code",
   "execution_count": null,
   "id": "f85a593e",
   "metadata": {},
   "outputs": [
    {
     "name": "stdout",
     "output_type": "stream",
     "text": [
      "subject_injury\n",
      "Yes    1631\n",
      "No     1446\n",
      "Name: count, dtype: int64\n",
      "9848\n",
      "force_type              Baton  Bodily Force  Chemical Irritant  Firearm  \\\n",
      "subject_injury_cleaned                                                    \n",
      "Missing                     2          7051               1421        0   \n",
      "No                          0          1093                131        2   \n",
      "Yes                         2          1286                 41        0   \n",
      "\n",
      "force_type              Gun Point Display  Improvised Weapon  Less Lethal  \\\n",
      "subject_injury_cleaned                                                      \n",
      "Missing                                27                 74           87   \n",
      "No                                     33                 34            0   \n",
      "Yes                                    44                 40            0   \n",
      "\n",
      "force_type              Less Lethal Projectile  Maximal Restraint Technique  \\\n",
      "subject_injury_cleaned                                                        \n",
      "Missing                                      0                          170   \n",
      "No                                           1                            0   \n",
      "Yes                                          2                            0   \n",
      "\n",
      "force_type              Police K9 Bite  Taser  \n",
      "subject_injury_cleaned                         \n",
      "Missing                             31    985  \n",
      "No                                   2    150  \n",
      "Yes                                 44    172  \n"
     ]
    }
   ],
   "source": [
    "police = pd.read_csv(\"data/mn_police_use_of_force.csv\")\n",
    "\n",
    "# Missing about 76% of the data\n",
    "print(police[\"subject_injury\"].value_counts())\n",
    "print(police[\"subject_injury\"].isna().sum())\n",
    "\n",
    "# Makes a new column filling in the NA values with missing\n",
    "police['subject_injury_cleaned'] = police[\"subject_injury\"].fillna(\"Missing\")\n",
    "\n",
    "# Cross check subject_injury missing and force_type\n",
    "check = pd.crosstab(police[\"subject_injury_cleaned\"], police[\"force_type\"])\n",
    "print(check)\n",
    "#"
   ]
  },
  {
   "cell_type": "code",
   "execution_count": null,
   "id": "b2df5e33",
   "metadata": {},
   "outputs": [
    {
     "name": "stdout",
     "output_type": "stream",
     "text": [
      "PretrialRelease\n",
      "1    19154\n",
      "0     3801\n",
      "9       31\n",
      "Name: count, dtype: int64\n",
      "0\n"
     ]
    }
   ],
   "source": [
    "justice = pd.read_parquet(\"data/justice_data.parquet\")\n",
    "\n",
    "# Rename column\n",
    "justice.rename(columns={\n",
    "   \"WhetherDefendantWasReleasedPretrial\" : \"PretrialRelease\" \n",
    "}, inplace=True)\n",
    "\n",
    "# Checking for abnormal inputs\n",
    "print(justice[\"PretrialRelease\"].value_counts())\n",
    "print(justice[\"PretrialRelease\"].isna().sum())\n",
    "\n",
    "# Replacing rows with a 9 value as np.nan\n",
    "import numpy as np\n",
    "justice[\"PretrialRelease\"] = justice[\"PretrialRelease\"].replace(9, np.nan)"
   ]
  },
  {
   "cell_type": "code",
   "execution_count": null,
   "id": "e56d7b5c",
   "metadata": {},
   "outputs": [
    {
     "name": "stdout",
     "output_type": "stream",
     "text": [
      "ImposedSentenceCharges\n",
      "0                   4953\n",
      "12                  1404\n",
      ".985626283367556    1051\n",
      "6                    809\n",
      "3                    787\n",
      "                    ... \n",
      "49.9712525667351       1\n",
      "57.0349075975359       1\n",
      "79.9260780287474       1\n",
      "42.1642710472279       1\n",
      "1.6570841889117        1\n",
      "Name: count, Length: 483, dtype: int64\n",
      "9053\n"
     ]
    },
    {
     "name": "stderr",
     "output_type": "stream",
     "text": [
      "/var/folders/nh/5h5_5pj17_ndl3lgcgx_fwvr0000gn/T/ipykernel_56989/1693668507.py:8: FutureWarning: A value is trying to be set on a copy of a DataFrame or Series through chained assignment using an inplace method.\n",
      "The behavior will change in pandas 3.0. This inplace method will never work because the intermediate object on which we are setting values always behaves as a copy.\n",
      "\n",
      "For example, when doing 'df[col].method(value, inplace=True)', try using 'df.method({col: value}, inplace=True)' or df[col] = df[col].method(value) instead, to perform the operation inplace on the original object.\n",
      "\n",
      "\n",
      "  justice[\"ImposedSentenceCharges\"].replace(\" \",np.nan,inplace=True)\n"
     ]
    },
    {
     "data": {
      "text/plain": [
       "SentenceTypeCharges\n",
       "4    8779\n",
       "9     274\n",
       "Name: count, dtype: int64"
      ]
     },
     "execution_count": 87,
     "metadata": {},
     "output_type": "execute_result"
    }
   ],
   "source": [
    "# Rename column\n",
    "justice.rename(columns={\n",
    "    \"ImposedSentenceAllChargeInContactEvent\" : \"ImposedSentenceCharges\",\n",
    "    \"SentenceTypeAllChargesAtConvictionInContactEvent\" : \"SentenceTypeCharges\"\n",
    "    }, inplace=True)\n",
    "\n",
    "print(justice[\"ImposedSentenceCharges\"].value_counts())\n",
    "\n",
    "justice[\"ImposedSentenceCharges\"].replace(\" \",np.nan,inplace=True)\n",
    "print(justice[\"ImposedSentenceCharges\"].isna().sum())\n",
    "\n",
    "justice[justice[\"ImposedSentenceCharges\"].isna()][\"SentenceTypeCharges\"].value_counts()"
   ]
  },
  {
   "cell_type": "markdown",
   "id": "5a60a44e",
   "metadata": {},
   "source": [
    "**Q2.** Go to https://sharkattackfile.net/ and download their dataset on shark attacks (Hint: `GSAF5.xls`).\n",
    "\n",
    "1. Open the shark attack file using Pandas. It is probably not a csv file, so `read_csv` won't work.\n",
    "2. Drop any columns that do not contain data.\n",
    "3. Clean the year variable. Describe the range of values you see. Filter the rows to focus on attacks since 1940. Are attacks increasing, decreasing, or remaining constant over time?\n",
    "4. Clean the Age variable and make a histogram of the ages of the victims.\n",
    "5. What proportion of victims are male?\n",
    "6. Clean the `Type` variable so it only takes three values: Provoked and Unprovoked and Unknown. What proportion of attacks are unprovoked?\n",
    "7. Clean the `Fatal Y/N` variable so it only takes three values: Y, N, and Unknown.\n",
    "8. Are sharks more likely to launch unprovoked attacks on men or women? Is the attack more or less likely to be fatal when the attack is provoked or unprovoked? Is it more or less likely to be fatal when the victim is male or female? How do you feel about sharks?\n",
    "9. What proportion of attacks appear to be by white sharks? (Hint: `str.split()` makes a vector of text values into a list of lists, split by spaces.)"
   ]
  },
  {
   "cell_type": "code",
   "execution_count": 138,
   "id": "a3f03830",
   "metadata": {},
   "outputs": [
    {
     "name": "stdout",
     "output_type": "stream",
     "text": [
      "1940 2026\n",
      "Year\n",
      "1940     24\n",
      "1941     27\n",
      "1942     41\n",
      "1943     28\n",
      "1944     31\n",
      "       ... \n",
      "2022     98\n",
      "2023    109\n",
      "2024     52\n",
      "2025     48\n",
      "2026      1\n",
      "Name: count, Length: 87, dtype: int64\n"
     ]
    }
   ],
   "source": [
    "import pandas as pd\n",
    "import matplotlib.pyplot\n",
    "\n",
    "shark = pd.read_excel('GSAF5.xlsx')\n",
    "\n",
    "# Q2\n",
    "shark = shark.dropna(axis=1, how='all')\n",
    "shark = shark.dropna(axis=0, how='all')\n",
    "\n",
    "# Q3\n",
    "shark = shark.dropna(subset=['Year'])\n",
    "shark['Year'] = shark['Year'].astype(int)\n",
    "shark = shark[shark['Year'] >= 1940]\n",
    "\n",
    "# It is odd that there is a recorded value for 2026 when it is only 2025\n",
    "# It also seems as though attacks are increasing over the years \n",
    "print(shark['Year'].min(), shark['Year'].max())\n",
    "print(shark['Year'].value_counts().sort_index())\n"
   ]
  },
  {
   "cell_type": "code",
   "execution_count": 139,
   "id": "c7c100b9",
   "metadata": {},
   "outputs": [
    {
     "data": {
      "text/plain": [
       "<Axes: xlabel='Age'>"
      ]
     },
     "execution_count": 139,
     "metadata": {},
     "output_type": "execute_result"
    },
    {
     "data": {
      "image/png": "[encoded data removed]",
      "text/plain": [
       "<Figure size 640x480 with 1 Axes>"
      ]
     },
     "metadata": {},
     "output_type": "display_data"
    }
   ],
   "source": [
    "# Q4\n",
    "shark['Age'] = pd.to_numeric(shark['Age'], errors='coerce')\n",
    "\n",
    "ageHisto = shark.groupby('Age').size()\n",
    "ageHisto.plot()"
   ]
  },
  {
   "cell_type": "code",
   "execution_count": 152,
   "id": "60d40b84",
   "metadata": {},
   "outputs": [
    {
     "name": "stdout",
     "output_type": "stream",
     "text": [
      "Sex\n",
      "M    4333\n",
      "F     720\n",
      "Name: count, dtype: int64\n",
      "0.7868167786453605\n"
     ]
    }
   ],
   "source": [
    "# Q5\n",
    "#print(shark['Sex'].value_counts())\n",
    "\n",
    "shark['Sex'] = shark['Sex'].str.strip().str.upper()\n",
    "shark['Sex'] = shark['Sex'].replace({\n",
    "    'M x 2': np.nan,\n",
    "    'LLI': np.nan\n",
    "})\n",
    "shark['Sex'] = shark['Sex'].where(shark['Sex'].isin(['M','F']))\n",
    "\n",
    "# 78.7% of victims are male\n",
    "print(shark['Sex'].value_counts())\n",
    "\n",
    "malecount = sum((shark['Sex']=='M'))\n",
    "print(malecount/len(shark))"
   ]
  },
  {
   "cell_type": "code",
   "execution_count": null,
   "id": "c13637ad",
   "metadata": {},
   "outputs": [
    {
     "name": "stdout",
     "output_type": "stream",
     "text": [
      "Type\n",
      "Unprovoked    4097\n",
      "Unknown        892\n",
      "Provoked       518\n",
      "Name: count, dtype: int64\n",
      "0.7439622298892319\n"
     ]
    }
   ],
   "source": [
    "# Q6 \n",
    "shark['Type'] = shark['Type'].where(shark['Type'].isin(['Provoked', 'Unprovoked']), 'Unknown')\n",
    "\n",
    "# 74.4% of attacks are unprovoked\n",
    "print(shark['Type'].value_counts())\n",
    "\n",
    "count = sum(shark['Type']=='Unprovoked')\n",
    "print(count/len(shark))\n"
   ]
  },
  {
   "cell_type": "code",
   "execution_count": 142,
   "id": "a08961b6",
   "metadata": {},
   "outputs": [
    {
     "name": "stdout",
     "output_type": "stream",
     "text": [
      "Fatal Y/N\n",
      "N          4213\n",
      "Y           824\n",
      "Unknown     470\n",
      "Name: count, dtype: int64\n"
     ]
    }
   ],
   "source": [
    "# Q7\n",
    "shark['Fatal Y/N'] = shark['Fatal Y/N'].where(shark['Fatal Y/N'].isin(['Y', 'N']), 'Unknown')\n",
    "\n",
    "print(shark['Fatal Y/N'].value_counts())"
   ]
  },
  {
   "cell_type": "code",
   "execution_count": null,
   "id": "6199d760",
   "metadata": {},
   "outputs": [
    {
     "name": "stdout",
     "output_type": "stream",
     "text": [
      "Type  Provoked   Unknown  Unprovoked\n",
      "Sex                                 \n",
      "F     0.038889  0.109722    0.851389\n",
      "M     0.102931  0.125779    0.771290\n",
      "\n",
      "Fatal Y/N          N   Unknown         Y\n",
      "Type                                    \n",
      "Provoked    0.953668  0.023166  0.023166\n",
      "Unknown     0.412556  0.448430  0.139013\n",
      "Unprovoked  0.817916  0.014157  0.167928\n",
      "\n",
      "Fatal Y/N         N   Unknown         Y\n",
      "Sex                                    \n",
      "F          0.793056  0.083333  0.123611\n",
      "M          0.771752  0.076160  0.152089\n"
     ]
    }
   ],
   "source": [
    "# Q8\n",
    "\n",
    "gender = pd.crosstab(shark['Sex'], shark['Type'], normalize='index')\n",
    "print(gender)\n",
    "# more likely to attack women unprovoked\n",
    "\n",
    "print()\n",
    "\n",
    "fatal = pd.crosstab(shark['Type'], shark['Fatal Y/N'], normalize='index')\n",
    "print(fatal)\n",
    "# unprovoked attacks are more fatal\n",
    "\n",
    "print()\n",
    "\n",
    "fatalMF = pd.crosstab(shark['Sex'], shark['Fatal Y/N'], normalize='index')\n",
    "print(fatalMF)\n",
    "# males attacks are more likely to be fatal\n",
    "\n",
    "# Sharks are scary but based on the statistics not something I should be too concerned about \n"
   ]
  },
  {
   "cell_type": "code",
   "execution_count": null,
   "id": "9638766c",
   "metadata": {},
   "outputs": [
    {
     "name": "stdout",
     "output_type": "stream",
     "text": [
      "['Date', 'Year', 'Type', 'Country', 'State', 'Location', 'Activity', 'Name', 'Sex', 'Age', 'Injury', 'Fatal Y/N', 'Time', 'Species ', 'Source', 'pdf', 'href formula', 'href', 'Case Number', 'Case Number.1', 'original order', 'Unnamed: 21', 'Unnamed: 22']\n",
      "0.119665879789359\n"
     ]
    }
   ],
   "source": [
    "# Split the column into a list of words for each row\n",
    "print(shark.columns.tolist())\n",
    "\n",
    "#Using RegEx to look for white shark \n",
    "wShark = shark['Species '].str.contains(r'\\bwhite shark\\b', case= False, na = False)\n",
    "\n",
    "#Proportion\n",
    "print(sum(wShark)/len(shark))"
   ]
  },
  {
   "cell_type": "markdown",
   "id": "8965dfb7",
   "metadata": {},
   "source": [
    "Sources Used:\n",
    "https://pandas.pydata.org/docs/reference/api/pandas.crosstab.html\n",
    "https://stackoverflow.com/questions/51794744 dropping-empty-columns-in-pandas-0-23\n",
    "Used ChatGPT for debugging and asked CS friend about RegEx"
   ]
  }
 ],
 "metadata": {
  "colab": {
   "provenance": []
  },
  "kernelspec": {
   "display_name": "base",
   "language": "python",
   "name": "python3"
  },
  "language_info": {
   "codemirror_mode": {
    "name": "ipython",
    "version": 3
   },
   "file_extension": ".py",
   "mimetype": "text/x-python",
   "name": "python",
   "nbconvert_exporter": "python",
   "pygments_lexer": "ipython3",
   "version": "3.12.4"
  }
 },
 "nbformat": 4,
 "nbformat_minor": 5
}
